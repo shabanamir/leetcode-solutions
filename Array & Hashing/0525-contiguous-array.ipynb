{
 "cells": [
  {
   "cell_type": "markdown",
   "metadata": {},
   "source": [
    "# <center> 525. Contiguous Array </center>\n",
    "\n",
    "\n",
    "## Problem Description\n",
    "[Click here](https://leetcode.com/problems/contiguous-array/description/)\n",
    "\n",
    "\n",
    "## Intuition\n",
    "<!-- Describe your first thoughts on how to solve this problem. -->\n",
    "We are given a binary array and need to find the longest subarray with an equal count of 0s and 1s.\n",
    "\n",
    "If two subarrays have the same count of 0s and 1s, the subarray between them has an equal count of 0s and 1s.\n",
    "\n",
    "To find the longest subarray, we have to check the subarray ending at each index, use a hashmap.\n",
    "\n",
    "\n",
    "## Approach\n",
    "<!-- Describe your approach to solving the problem. -->\n",
    "- set res = 0 to track the longest subarray length\n",
    "- set count = 0 to track the running count of 0s and 1s\n",
    "- create a hashmap to store the subarrays i.e its count of 0s and 1s and ending index\n",
    "    - *key = count*\n",
    "    - *value = index*\n",
    "    - *add a count of 0 with index -1 to represent the empty subarray and handle cases where the subarray starts from index 0*\n",
    "- traverse the input array, *for each index and number at that index*\n",
    "    - increment count if current number is 1 else decrement count\n",
    "    - if the running count is in the hashmap, we found two subarrays with the same count i.e the subarray between the current and last occurrence of running count has an equal count of 0s and 1s\n",
    "        - update res by taking max of previous max length and current subarray length\n",
    "            - *subarray length = distance between current and last occurrences of the subarray with running count*\n",
    "    - else\n",
    "        - add the running count and its index to the map\n",
    "- return res\n",
    "\n",
    "\n",
    "## Complexity\n",
    "- Time complexity: O(array traversal) → O(n)\n",
    "<!-- Add your time complexity here, e.g. $$O(n)$$ -->\n",
    "\n",
    "- Space complexity: O(hashmap) → O(n)\n",
    "<!-- Add your space complexity here, e.g. $$O(n)$$ -->\n",
    "\n",
    "\n",
    "## Code\n"
   ]
  },
  {
   "cell_type": "code",
   "execution_count": null,
   "metadata": {},
   "outputs": [],
   "source": [
    "class Solution:\n",
    "\n",
    "    def findMaxLength(self, nums: List[int]) -> int:\n",
    "        res = 0\n",
    "        count = 0\n",
    "        count_index = {0: -1}\n",
    "        for i, num in enumerate(nums):\n",
    "            count += 1 if num == 1 else -1\n",
    "            if count in count_index:\n",
    "                res = max(res, i - count_index[count])\n",
    "            else:\n",
    "                count_index[count] = i\n",
    "        return res     "
   ]
  }
 ],
 "metadata": {
  "kaggle": {
   "accelerator": "none",
   "dataSources": [],
   "dockerImageVersionId": 30746,
   "isGpuEnabled": false,
   "isInternetEnabled": true,
   "language": "python",
   "sourceType": "notebook"
  },
  "kernelspec": {
   "display_name": "Python 3",
   "language": "python",
   "name": "python3"
  },
  "language_info": {
   "codemirror_mode": {
    "name": "ipython",
    "version": 3
   },
   "file_extension": ".py",
   "mimetype": "text/x-python",
   "name": "python",
   "nbconvert_exporter": "python",
   "pygments_lexer": "ipython3",
   "version": "3.10.13"
  }
 },
 "nbformat": 4,
 "nbformat_minor": 4
}
