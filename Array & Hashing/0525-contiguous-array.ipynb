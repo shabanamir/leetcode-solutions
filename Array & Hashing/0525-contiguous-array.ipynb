{
 "cells": [
  {
   "cell_type": "markdown",
   "metadata": {},
   "source": [
    "# <center> 525. Contiguous Array </center>\n",
    "\n",
    "\n",
    "## Problem Description\n",
    "[Click here](https://leetcode.com/problems/contiguous-array/description/)\n",
    "\n",
    "\n",
    "## Intuition\n",
    "<!-- Describe your first thoughts on how to solve this problem. -->\n",
    "We are given a binary array and need to find the longest subarray with an equal count of 0s and 1s.\n",
    "\n",
    "A subarray with an equal count of 0s and 1s has a count difference of 0 between them i.e net sum is 0. \n",
    "- For example [0, 1, 0, 1] <br>\n",
    "0s = 2 <br>\n",
    "1s = 2 <br>\n",
    "net sum = 2 - 2 = 0\n",
    "\n",
    "So we need to find the longest subarray with net sum 0.\n",
    "\n",
    "General approach to find subarray with a target sum\n",
    "- use prefix sum to find subarrays and hashmap to store them\n",
    "- in each iteration, search for subarray with *sum = current subarray sum (i.e prefix sum) - target sum* in the hashmap\n",
    "    - if there is such a subarray, there is a subarray with the target sum, it means if we remove that subarray from the current subarray, we'll get a subarray with the target sum\n",
    "\n",
    "In this case, the target sum is 0, so check for a subarray with sum <br>\n",
    "= current subarray sum - 0 <br>\n",
    "= current subarray sum\n",
    "\n",
    "\n",
    "## Approach\n",
    "<!-- Describe your approach to solving the problem. -->\n",
    "- set res = 0 to track the longest subarray length\n",
    "- set net_sum = 0 to track the prefix sum i.e current subarray net count of 0s and 1s\n",
    "- create a hashmap to store the subarrays net sum i.e net count of 0s and 1s and index\n",
    "    - *key = net sum*\n",
    "    - *value = index*\n",
    "    - *add a net sum 0 with index -1 to represent the empty subarray*\n",
    "- traverse the input array, *for each index and number at that index*\n",
    "    - increment net_sum if current number is 1 else decrement it\n",
    "    - if net_sum is in the hashmap, there is a subarray with net sum 0 i.e the subarray between the current and last occurrences of the subarray with current net sum\n",
    "        - update res by taking max of previous max length and length of the subarray with net sum 0\n",
    "            - *subarray with net sum 0 length = distance between current and last occurrences of the subarray with current net sum*\n",
    "    - else\n",
    "        - add the current subarray net_sum and its index to the map\n",
    "- return res\n",
    "\n",
    "\n",
    "## Complexity\n",
    "- Time complexity: O(array traversal) → O(n)\n",
    "<!-- Add your time complexity here, e.g. $$O(n)$$ -->\n",
    "\n",
    "- Space complexity: O(hashmap) → O(n)\n",
    "<!-- Add your space complexity here, e.g. $$O(n)$$ -->\n",
    "\n",
    "\n",
    "\n",
    "## Code\n"
   ]
  },
  {
   "cell_type": "code",
   "execution_count": null,
   "metadata": {},
   "outputs": [],
   "source": [
    "class Solution:\n",
    "\n",
    "    def findMaxLength(self, nums: List[int]) -> int:\n",
    "        res = 0\n",
    "        net_sum = 0\n",
    "        index_map = {0: -1}\n",
    "        for i, num in enumerate(nums):\n",
    "            net_sum += 1 if num == 1 else -1\n",
    "            if net_sum in index_map:\n",
    "                res = max(res, i - index_map[net_sum])\n",
    "            else:\n",
    "                index_map[net_sum] = i\n",
    "        return res  "
   ]
  }
 ],
 "metadata": {
  "kaggle": {
   "accelerator": "none",
   "dataSources": [],
   "dockerImageVersionId": 30746,
   "isGpuEnabled": false,
   "isInternetEnabled": true,
   "language": "python",
   "sourceType": "notebook"
  },
  "kernelspec": {
   "display_name": "Python 3",
   "language": "python",
   "name": "python3"
  },
  "language_info": {
   "codemirror_mode": {
    "name": "ipython",
    "version": 3
   },
   "file_extension": ".py",
   "mimetype": "text/x-python",
   "name": "python",
   "nbconvert_exporter": "python",
   "pygments_lexer": "ipython3",
   "version": "3.10.13"
  }
 },
 "nbformat": 4,
 "nbformat_minor": 4
}
