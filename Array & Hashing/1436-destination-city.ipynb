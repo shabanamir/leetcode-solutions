{
 "cells": [
  {
   "cell_type": "markdown",
   "metadata": {},
   "source": [
    "# <center> 1436. Destination City </center>\n",
    "\n",
    "\n",
    "## Problem Description\n",
    "[Click here](https://leetcode.com/problems/destination-city/description/)\n",
    "\n",
    "\n",
    "## Intuition\n",
    "<!-- Describe your first thoughts on how to solve this problem. -->\n",
    "We are given pairs of source and destination cities and need to find the final destination city i.e a city that is not used as a source city.\n",
    "\n",
    "Traverse the paths array and mark the source cities. Traverse the paths again to check if current destination city is used as a source city or not.\n",
    "\n",
    "\n",
    "## Approach\n",
    "<!-- Describe your approach to solving the problem. -->\n",
    "- check base cases\n",
    "- if there is a single pair of source and destination cities \n",
    "    - return the destination city as the final destination\n",
    "        - *(index 0 represents source, index 1 represents destination)*\n",
    "- create a set and add all the source cities by traversing each source and destination city pair in the paths array \n",
    "- traverse the paths array again, *for each source, destination city pair*\n",
    "    - if the destination city is not in the set, it is the final destination city\n",
    "        - return it\n",
    "\n",
    "\n",
    "## Complexity\n",
    "- Time complexity: O(traversal for marking source cities + traversal for checking destination cities) → O(n + n) → O(n)\n",
    "<!-- Add your time complexity here, e.g. $$O(n)$$ -->\n",
    "\n",
    "- Space complexity: O(set) → O(n)\n",
    "<!-- Add your space complexity here, e.g. $$O(n)$$ -->\n",
    "\n",
    "\n",
    "## Code\n"
   ]
  },
  {
   "cell_type": "code",
   "execution_count": null,
   "metadata": {},
   "outputs": [],
   "source": [
    "class Solution:\n",
    "\n",
    "    def destCity(self, paths: List[List[str]]) -> str:\n",
    "        if len(paths) == 1:\n",
    "            return paths[0][1]\n",
    "        src_cities = set(src for src, dst in paths)\n",
    "        for src, dst in paths:\n",
    "            if dst not in src_cities:\n",
    "                return dst"
   ]
  }
 ],
 "metadata": {
  "kaggle": {
   "accelerator": "none",
   "dataSources": [],
   "dockerImageVersionId": 30746,
   "isGpuEnabled": false,
   "isInternetEnabled": true,
   "language": "python",
   "sourceType": "notebook"
  },
  "kernelspec": {
   "display_name": "Python 3",
   "language": "python",
   "name": "python3"
  },
  "language_info": {
   "codemirror_mode": {
    "name": "ipython",
    "version": 3
   },
   "file_extension": ".py",
   "mimetype": "text/x-python",
   "name": "python",
   "nbconvert_exporter": "python",
   "pygments_lexer": "ipython3",
   "version": "3.10.13"
  }
 },
 "nbformat": 4,
 "nbformat_minor": 4
}
