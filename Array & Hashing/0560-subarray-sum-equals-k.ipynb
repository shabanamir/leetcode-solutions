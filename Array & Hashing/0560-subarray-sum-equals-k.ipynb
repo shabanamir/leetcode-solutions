{
 "cells": [
  {
   "cell_type": "markdown",
   "metadata": {},
   "source": [
    "# <center> 560. Subarray Sum Equals K </center>\n",
    "\n",
    "\n",
    "## Problem Description\n",
    "[Click here](https://leetcode.com/problems/subarray-sum-equals-k/description/)\n",
    "\n",
    "\n",
    "## Intuition\n",
    "<!-- Describe your first thoughts on how to solve this problem. -->\n",
    "This problem is similar to [Contiguous Array](https://leetcode.com/problems/contiguous-array/description/).\n",
    "\n",
    "We need to find total subarrays with sum k. \n",
    "\n",
    "General approach to find subarray with a target sum\n",
    "- use prefix sum to find subarrays and hashmap to store them\n",
    "- in each iteration, search for subarray with *sum = current subarray sum (i.e prefix sum) - target sum* in the hashmap\n",
    "    - if there is such a subarray, there is a subarray with the target sum, it means if we remove that subarray from the current subarray, we'll get a subarray with the target sum\n",
    "\n",
    "\n",
    "\n",
    "## Approach\n",
    "<!-- Describe your approach to solving the problem. -->\n",
    "- set res = 0 to track the number of subarrays with sum k\n",
    "- set pre_sum = 0 to track the prefix sum i.e current subarray sum\n",
    "- set count = a hashmap to store the count of subarray sum i.e prefix sums\n",
    "  - *key = subarray sum i.e prefix sum*\n",
    "  - *value = count*\n",
    "  - *add a prefix sum 0 with count 1 because there's always an empty subarray that sums to 0*\n",
    "- traverse the input array\n",
    "    - add current element to pre_sum to get current subarray sum\n",
    "    - if pre_sum - k is in the hashmap there is a subarray with sum k\n",
    "        - add that subarray count to res\n",
    "    - increment the count of the current subarray sum i.e pre_sum in the hashmap\n",
    "- return res\n",
    "\n",
    "## Complexity\n",
    "- Time complexity: O(array traversal) → O(n)\n",
    "<!-- Add your time complexity here, e.g. $$O(n)$$ -->\n",
    "\n",
    "- Space complexity: O(hashmap) → O(n)\n",
    "<!-- Add your space complexity here, e.g. $$O(n)$$ -->\n",
    "\n",
    "\n",
    "## Code"
   ]
  },
  {
   "cell_type": "code",
   "execution_count": null,
   "metadata": {},
   "outputs": [],
   "source": [
    "class Solution:\n",
    "\n",
    "    def subarraySum(self, nums: List[int], k: int) -> int:\n",
    "        res = 0\n",
    "        pre_sum = 0\n",
    "        count = defaultdict(int, {0: 1})\n",
    "        for n in nums:\n",
    "            pre_sum += n\n",
    "            if pre_sum - k in count:\n",
    "                res += count[pre_sum - k]\n",
    "            count[pre_sum] += 1\n",
    "        return res"
   ]
  }
 ],
 "metadata": {
  "kaggle": {
   "accelerator": "none",
   "dataSources": [],
   "dockerImageVersionId": 30746,
   "isGpuEnabled": false,
   "isInternetEnabled": true,
   "language": "python",
   "sourceType": "notebook"
  },
  "kernelspec": {
   "display_name": "Python 3",
   "language": "python",
   "name": "python3"
  },
  "language_info": {
   "codemirror_mode": {
    "name": "ipython",
    "version": 3
   },
   "file_extension": ".py",
   "mimetype": "text/x-python",
   "name": "python",
   "nbconvert_exporter": "python",
   "pygments_lexer": "ipython3",
   "version": "3.10.13"
  }
 },
 "nbformat": 4,
 "nbformat_minor": 4
}
