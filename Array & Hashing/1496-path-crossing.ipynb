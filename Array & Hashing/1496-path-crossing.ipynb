{
 "cells": [
  {
   "cell_type": "markdown",
   "metadata": {},
   "source": [
    "# <center> 1496. Path Crossing </center>\n",
    "\n",
    "\n",
    "## Problem Description\n",
    "[Click here](https://leetcode.com/problems/path-crossing/description/)\n",
    "\n",
    "\n",
    "## Intuition\n",
    "<!-- Describe your first thoughts on how to solve this problem. -->\n",
    "We are given a path (directions) and need to find if we ever visit a previously visited location i.e a duplicate location. To find duplicates, use a hash set.\n",
    "\n",
    "\n",
    "## Approach\n",
    "<!-- Describe your approach to solving the problem. -->\n",
    "- set seen = a hashset to check for duplicates i.e previously visited location and add the starting location coordinates (0, 0)\n",
    "- set x and y to 0 to track the new location coordinates\n",
    "- traverse the path, *for each direction the path string*\n",
    "    - if the direction is north\n",
    "        - increment y by 1 \n",
    "    - if the direction is south\n",
    "        - decrement y by 1 \n",
    "    - if the direction is east\n",
    "        - increment x by 1 \n",
    "    - else the direction is west\n",
    "        - decrement x by 1 \n",
    "    - if the current location coordinates i.e pair of x, y is in the hashset, we have visited this location before\n",
    "        - return true\n",
    "    - else add the current location coordinates to the set\n",
    "- if the loop completes without returning true, we didn't visit any previously visited location, return false\n",
    "\n",
    "\n",
    "## Complexity\n",
    "- Time complexity: O(path string traversal) → O(n)\n",
    "<!-- Add your time complexity here, e.g. $$O(n)$$ -->\n",
    "\n",
    "- Space complexity: O(hashset) → O(total possible locations) → O(total directions in the path) → O(n)\n",
    "<!-- Add your space complexity here, e.g. $$O(n)$$ -->\n",
    "\n",
    "\n",
    "## Code\n"
   ]
  },
  {
   "cell_type": "code",
   "execution_count": null,
   "metadata": {},
   "outputs": [],
   "source": [
    "class Solution:\n",
    "\n",
    "    def isPathCrossing(self, path: str) -> bool:\n",
    "        seen = {(0, 0)}\n",
    "        x, y = 0, 0\n",
    "        for dir in path:\n",
    "            if dir == 'N':\n",
    "                y += 1\n",
    "            elif dir == 'S':\n",
    "                y -= 1\n",
    "            elif dir == 'E':\n",
    "                x += 1\n",
    "            else:\n",
    "                x -= 1\n",
    "            if (x, y) in seen:\n",
    "                return True\n",
    "            seen.add((x, y))\n",
    "        return False "
   ]
  }
 ],
 "metadata": {
  "kaggle": {
   "accelerator": "none",
   "dataSources": [],
   "dockerImageVersionId": 30746,
   "isGpuEnabled": false,
   "isInternetEnabled": true,
   "language": "python",
   "sourceType": "notebook"
  },
  "kernelspec": {
   "display_name": "Python 3",
   "language": "python",
   "name": "python3"
  },
  "language_info": {
   "codemirror_mode": {
    "name": "ipython",
    "version": 3
   },
   "file_extension": ".py",
   "mimetype": "text/x-python",
   "name": "python",
   "nbconvert_exporter": "python",
   "pygments_lexer": "ipython3",
   "version": "3.10.13"
  }
 },
 "nbformat": 4,
 "nbformat_minor": 4
}
